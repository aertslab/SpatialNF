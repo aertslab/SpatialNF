{
 "cells": [
  {
   "cell_type": "markdown",
   "id": "df9d72b1-961a-4f4c-b767-d71877a0b16f",
   "metadata": {},
   "source": [
    "# Tangram: cell type projection report"
   ]
  },
  {
   "cell_type": "code",
   "execution_count": null,
   "id": "218355e5-16f3-46e0-bf51-d5a50e453082",
   "metadata": {},
   "outputs": [],
   "source": [
    "import os\n",
    "print(\"Files in use:\")\n",
    "print(f\"FILE1='{os.path.abspath(FILE1)}'\")\n",
    "print(f\"FILE2='{os.path.abspath(FILE2)}'\")"
   ]
  },
  {
   "cell_type": "code",
   "execution_count": null,
   "id": "a686fc49-c50e-4b87-a3a1-5493265fc69a",
   "metadata": {},
   "outputs": [],
   "source": [
    "# import packages\n",
    "import os\n",
    "import warnings\n",
    "import tangram as tg\n",
    "import scanpy as sc\n",
    "import pandas as pd\n",
    "import numpy as np\n",
    "import matplotlib.pyplot as plt\n",
    "from matplotlib.pyplot import rc_context\n",
    "import re"
   ]
  },
  {
   "cell_type": "markdown",
   "id": "27a0ad0f-ccb4-41cb-a353-eaba4ce9348d",
   "metadata": {},
   "source": [
    "#### Plotting settings"
   ]
  },
  {
   "cell_type": "code",
   "execution_count": null,
   "id": "dc12d9ff-92ef-4672-80bd-cb2fa59b5f0e",
   "metadata": {},
   "outputs": [],
   "source": [
    "# plot settings\n",
    "sc.set_figure_params(dpi=150, fontsize=10, dpi_save=600)\n",
    "hist_dims = (10,3)"
   ]
  },
  {
   "cell_type": "markdown",
   "id": "747fe243-b213-4fc9-b95c-30d1f021315f",
   "metadata": {},
   "source": [
    "### Read data"
   ]
  },
  {
   "cell_type": "code",
   "execution_count": null,
   "id": "3403c042-958a-4376-93b9-42aab0c74d5a",
   "metadata": {},
   "outputs": [],
   "source": [
    "adata_map = sc.read(FILE1)\n",
    "adata_spatial = sc.read(FILE2)"
   ]
  },
  {
   "cell_type": "markdown",
   "id": "5b159826-d8ff-4a3f-8184-92680e13451d",
   "metadata": {},
   "source": [
    "---"
   ]
  },
  {
   "cell_type": "markdown",
   "id": "61a65359-67c5-42db-8759-2a381e481bb5",
   "metadata": {},
   "source": [
    "## Training scores for mapping single cell to spatial data "
   ]
  },
  {
   "cell_type": "code",
   "execution_count": null,
   "id": "913a57a0-023e-4f19-b8db-cbee7c62b9b2",
   "metadata": {},
   "outputs": [],
   "source": [
    "print(\"Number of genes used for training: {}\".format(adata_map.uns['train_genes_df'].shape[0]))"
   ]
  },
  {
   "cell_type": "markdown",
   "id": "d7fb95cc-e0f9-46b3-bee4-94fe9d3a6c03",
   "metadata": {
    "jupyter": {
     "outputs_hidden": true
    },
    "tags": []
   },
   "source": [
    "#### Training history\n",
    "Overall training scores should show converge before the end of training"
   ]
  },
  {
   "cell_type": "code",
   "execution_count": null,
   "id": "6ad5181f-32f5-4b2c-93c7-9031d20954dc",
   "metadata": {},
   "outputs": [],
   "source": [
    "loss = [ float(l) for l in adata_map.uns['training_history']['main_loss']]\n",
    "plt.plot(range(0, len(loss)), loss, )\n",
    "plt.xlabel(\"Epoch\")\n",
    "plt.ylabel(\"Score\")"
   ]
  },
  {
   "cell_type": "markdown",
   "id": "d5ef027d-ad0e-49f3-9531-ec8efeeeda29",
   "metadata": {},
   "source": [
    "#### Summary plots for training scores and gene expression sparsity"
   ]
  },
  {
   "cell_type": "markdown",
   "id": "fd30cc77-c227-4bab-9aa8-e7c2161fdea6",
   "metadata": {},
   "source": [
    "To evaluate the mapping, training scores are shown per gene (only genes that were used for training). Sparsity of gene expression can impact training. To check whether sparsity of gene expression impacts training, training scores are plotted against sparsity of gene expression in single cells and spatial data."
   ]
  },
  {
   "cell_type": "code",
   "execution_count": null,
   "id": "aea52e4e-edf5-492b-9c90-14fc8cb0e209",
   "metadata": {},
   "outputs": [],
   "source": [
    "tg.plot_training_scores(adata_map, alpha=.5)"
   ]
  },
  {
   "cell_type": "markdown",
   "id": "0dcc8a17-b73f-44d5-a936-54140b235b92",
   "metadata": {},
   "source": [
    "#### 20 genes with best training performance"
   ]
  },
  {
   "cell_type": "code",
   "execution_count": null,
   "id": "1d73a920-1092-4b09-96c5-bec3b9f70a78",
   "metadata": {},
   "outputs": [],
   "source": [
    "adata_map.uns['train_genes_df'].head(n=20)"
   ]
  },
  {
   "cell_type": "markdown",
   "id": "eb2b7098-b231-4e90-b22a-0d78ec13917b",
   "metadata": {},
   "source": [
    "#### 20 genes with lowest training performance"
   ]
  },
  {
   "cell_type": "code",
   "execution_count": null,
   "id": "124e5548-f4d5-48a1-950d-bc62cf9d5451",
   "metadata": {},
   "outputs": [],
   "source": [
    "adata_map.uns['train_genes_df'].tail(n=20)"
   ]
  },
  {
   "cell_type": "markdown",
   "id": "0002f158-3fe7-47b0-8289-8f75a4d78c26",
   "metadata": {},
   "source": [
    "## Cell type mapping"
   ]
  },
  {
   "cell_type": "markdown",
   "id": "2374edab-ae95-4435-b587-c724be6c90ff",
   "metadata": {},
   "source": [
    "#### Sum over cell type projections\n",
    "Cell type projection scores are summed up over all cells/spots for each cell type. This sum provides an overview which cell type projections dominate the mapping"
   ]
  },
  {
   "cell_type": "code",
   "execution_count": null,
   "id": "6285c3e7-0b09-41ce-a992-01c166209c31",
   "metadata": {},
   "outputs": [],
   "source": [
    "# compile sum of celltype statistics\n",
    "pref = 'n_tangram_'\n",
    "celltypes = adata_spatial.obsm['tangram_ct_pred'].columns\n",
    "obs_entries = [pref + celltyp for celltyp in celltypes ]\n",
    "df_cellscores = adata_spatial.obs[obs_entries]\n",
    "df_cellscores.columns = [ re.sub(pref, '', head) for head in df_cellscores.columns if re.search(pref, head)]\n",
    "\n",
    "df_sumcells = pd.DataFrame( \n",
    "    {\n",
    "        'Celltype' : df_cellscores.sum(axis=0).index,\n",
    "        'sum_cells' : df_cellscores.sum(axis=0)\n",
    "    })\n",
    "df_sumcells.sort_values('sum_cells', inplace=True)\n",
    "\n",
    "df_sumcells.plot.barh(figsize=[5, df_sumcells.shape[0]*0.25], legend=False)"
   ]
  },
  {
   "cell_type": "markdown",
   "id": "459da8fd-d6f5-451a-a77c-f7237ac695eb",
   "metadata": {},
   "source": [
    "#### Entropy per cell/spot\n",
    "The entropy over cell type projections per cell/spot provides an overview how clearly a cell/spot could be assigned to a single cell type (low entropy) or several different cell types (high entropy). "
   ]
  },
  {
   "cell_type": "code",
   "execution_count": null,
   "id": "9ae9fa3a-91d0-439a-a6ff-650e963a85c4",
   "metadata": {},
   "outputs": [],
   "source": [
    "if 'spatial' in adata_spatial.uns.keys():\n",
    "    sc.pl.spatial(adata_spatial, color=['n_tangram_entropy'], alpha=1, color_map='OrRd')\n",
    "else:\n",
    "    max_width_height= 5\n",
    "    sp_width = np.max(adata_spatial.obsm['X_spatial'][:,0]) - np.min(adata_spatial.obsm['X_spatial'][:,0])\n",
    "    sp_height = np.max(adata_spatial.obsm['X_spatial'][:,1]) - np.min(adata_spatial.obsm['X_spatial'][:,1])\n",
    "    ratio_hw = sp_height / sp_width\n",
    "    if sp_width > sp_height:\n",
    "        fig_height = int(ratio_hw * max_width_height)\n",
    "        fig_width = max_width_height\n",
    "    else:\n",
    "        fig_width = int(max_width_height / ratio_hw)\n",
    "        fig_height = max_width_height\n",
    "    with rc_context({'figure.figsize': (fig_width, fig_height)}):\n",
    "        sc.pl.embedding(adata_spatial, basis=\"X_spatial\", color=['n_tangram_entropy'], alpha=1, color_map='OrRd', vmin=0, vmax=1)"
   ]
  },
  {
   "cell_type": "markdown",
   "id": "d4118ed9-87e1-4cc0-ad6d-0b7f479cc60b",
   "metadata": {},
   "source": [
    "#### Highest scoring cell type assignments per cell/spot"
   ]
  },
  {
   "cell_type": "code",
   "execution_count": null,
   "id": "22ade250-29a0-4a95-81a3-7e6d98fcc4af",
   "metadata": {},
   "outputs": [],
   "source": [
    "bestanno = adata_spatial.obs.keys()[[key.startswith('tangram_best_') for key in adata_spatial.obs.keys()]][0]\n",
    "\n",
    "if 'spatial' in adata_spatial.uns.keys():\n",
    "    sc.pl.spatial(adata_spatial, color=bestanno, alpha=1, palette='nipy_spectral')\n",
    "else:\n",
    "    max_width_height= 5\n",
    "    sp_width = np.max(adata_spatial.obsm['X_spatial'][:,0]) - np.min(adata_spatial.obsm['X_spatial'][:,0])\n",
    "    sp_height = np.max(adata_spatial.obsm['X_spatial'][:,1]) - np.min(adata_spatial.obsm['X_spatial'][:,1])\n",
    "    ratio_hw = sp_height / sp_width\n",
    "    if sp_width > sp_height:\n",
    "        fig_height = int(ratio_hw * max_width_height)\n",
    "        fig_width = max_width_height\n",
    "    else:\n",
    "        fig_width = int(max_width_height / ratio_hw)\n",
    "        fig_height = max_width_height\n",
    "    with rc_context({'figure.figsize': (fig_width, fig_height)}):\n",
    "        sc.pl.embedding(adata_spatial, basis=\"X_spatial\", color=[bestanno], palette='nipy_spectral')"
   ]
  }
 ],
 "metadata": {
  "kernelspec": {
   "display_name": "Python 3",
   "language": "python",
   "name": "python3"
  },
  "language_info": {
   "codemirror_mode": {
    "name": "ipython",
    "version": 3
   },
   "file_extension": ".py",
   "mimetype": "text/x-python",
   "name": "python",
   "nbconvert_exporter": "python",
   "pygments_lexer": "ipython3",
   "version": "3.9.2"
  }
 },
 "nbformat": 4,
 "nbformat_minor": 5
}
