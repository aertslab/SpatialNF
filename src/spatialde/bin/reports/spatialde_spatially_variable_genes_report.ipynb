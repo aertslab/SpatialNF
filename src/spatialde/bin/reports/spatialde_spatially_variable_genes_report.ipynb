{
 "cells": [
  {
   "cell_type": "markdown",
   "id": "aef44481-a5ea-4ec2-820c-c128feecb104",
   "metadata": {},
   "source": [
    "# SpatialDE: spatially variable genes report"
   ]
  },
  {
   "cell_type": "code",
   "execution_count": null,
   "id": "515ec68c-94b9-4908-a613-483f590d83be",
   "metadata": {},
   "outputs": [],
   "source": [
    "import os\n",
    "print(\"Files in use:\")\n",
    "print(f\"FILE='{os.path.abspath(FILE)}'\")"
   ]
  },
  {
   "cell_type": "code",
   "execution_count": null,
   "id": "751b225e-bea6-413a-bb58-3d93d79c0de9",
   "metadata": {},
   "outputs": [],
   "source": [
    "# Import packages\n",
    "import scanpy as sc\n",
    "import seaborn as sns\n",
    "import matplotlib.pyplot as plt\n",
    "import numpy as np\n",
    "import warnings\n",
    "import pandas as pd\n",
    "import matplotlib.pyplot as plt\n",
    "from matplotlib.pyplot import rc_context"
   ]
  },
  {
   "cell_type": "markdown",
   "id": "0e730954-0462-4070-b5b5-c2986ec34a79",
   "metadata": {},
   "source": [
    "#### Plotting settings"
   ]
  },
  {
   "cell_type": "code",
   "execution_count": null,
   "id": "c5c97d32-1341-4b9b-9c62-dab9a7b703e2",
   "metadata": {},
   "outputs": [],
   "source": [
    "# plot settings\n",
    "sc.set_figure_params(dpi=150, fontsize=10, dpi_save=600)\n",
    "hist_dims = (10,3)"
   ]
  },
  {
   "cell_type": "markdown",
   "id": "1b838a72-cabb-4928-bbe8-6befbe1cbd8a",
   "metadata": {},
   "source": [
    "### Read data"
   ]
  },
  {
   "cell_type": "code",
   "execution_count": null,
   "id": "9b603cd2-5108-4ccc-8d57-0039312be296",
   "metadata": {},
   "outputs": [],
   "source": [
    "adata = sc.read_h5ad(filename=FILE)"
   ]
  },
  {
   "cell_type": "markdown",
   "id": "728e5597-dae4-4f84-b93d-7f3cd6f56181",
   "metadata": {},
   "source": [
    "---"
   ]
  },
  {
   "cell_type": "markdown",
   "id": "24eb0274-b0fa-4220-8a33-1ae876c5ebb3",
   "metadata": {},
   "source": [
    "## Spatially variable genes"
   ]
  },
  {
   "cell_type": "markdown",
   "id": "b4e71d9b-9b1b-40de-8093-d1f67ef3010b",
   "metadata": {},
   "source": [
    "#### Volcano plots: adjusted p-values vs. fraction spatial variance\n",
    "Volcano plots can be investigated to properly set thresholds for max. adjusted p-value and min. fraction of spatial variance (FSV) to select spatially variable genes"
   ]
  },
  {
   "cell_type": "code",
   "execution_count": null,
   "id": "048d8657-ea7c-423c-a9fe-62f4821b12b9",
   "metadata": {},
   "outputs": [],
   "source": [
    "small_float_cutoff = 10**-12\n",
    "\n",
    "adjustment_method = adata.uns['spatialDE_parameters']['qval_adjust_method']\n",
    "thr_qval = adata.uns['spatialDE_parameters']['thr_qval']\n",
    "min_fsv = adata.uns['spatialDE_parameters']['min_fsv']\n",
    "\n",
    "plt.yscale('log')\n",
    "plt.scatter(adata.uns['spatialDE']['FSV'], [small_float_cutoff if qval < small_float_cutoff else qval for qval in adata.uns['spatialDE'][adjustment_method]], c='black')\n",
    "\n",
    "plt.axhline(thr_qval, c='red', lw=1, ls='--')\n",
    "plt.axvline(min_fsv, c='red', lw=1, ls='--')\n",
    "\n",
    "plt.gca().invert_yaxis();\n",
    "\n",
    "plt.xlabel('Fraction spatial variance')\n",
    "plt.ylabel('Adj. P-value:' + adjustment_method);"
   ]
  },
  {
   "cell_type": "code",
   "execution_count": null,
   "id": "4070c9b6-610b-4076-876f-90b63bbff303",
   "metadata": {},
   "outputs": [],
   "source": [
    "print(\"Number of significant genes: {}\".format(np.sum(adata.uns['spatialDE']['is_signif'])))"
   ]
  },
  {
   "cell_type": "markdown",
   "id": "a65faca8-9fa3-4369-bbee-5738c6206048",
   "metadata": {},
   "source": [
    "#### Top candidate genes\n",
    "To select the most interesting genes, spatialDE results can be ranked by log-likelihood ratio (LLR) "
   ]
  },
  {
   "cell_type": "code",
   "execution_count": null,
   "id": "1b814e39-34b7-46ec-b6d6-ae9c12c7af38",
   "metadata": {},
   "outputs": [],
   "source": [
    "adata.uns['spatialDE'].sort_values('LLR', ascending=False).head(n=20)"
   ]
  },
  {
   "cell_type": "markdown",
   "id": "a9eac88b-4f5f-4415-88eb-5cfeae860328",
   "metadata": {},
   "source": [
    "#### Expression of top 8 genes\n",
    "This data should have been normalized with NaiveDE. Hence, raw counts as used in SCope session may show some deviations. "
   ]
  },
  {
   "cell_type": "code",
   "execution_count": null,
   "id": "bada41b1-3147-458a-ac9c-d7698362f92e",
   "metadata": {},
   "outputs": [],
   "source": [
    "top8_genes = adata.uns['spatialDE'].sort_values('LLR', ascending=False)[0:8].g\n",
    "\n",
    "if 'spatial' in adata.uns.keys():\n",
    "    sc.pl.spatial(adata, img_key=\"hires\", color=top8_genes, alpha=1, color_map='OrRd')\n",
    "else:\n",
    "    fig_width= 10\n",
    "    sp_width = np.max(adata.obsm['X_spatial'][:,0]) - np.min(adata.obsm['X_spatial'][:,0])\n",
    "    sp_height = np.max(adata.obsm['X_spatial'][:,1]) - np.min(adata.obsm['X_spatial'][:,1])\n",
    "    ratio_hw = sp_height / sp_width\n",
    "    fig_height = int(ratio_hw * fig_width)\n",
    "    with rc_context({'figure.figsize': (fig_width, fig_height)}):\n",
    "        sc.pl.embedding(adata, basis=\"X_spatial\", color=top8_genes, alpha=1, color_map='OrRd')"
   ]
  }
 ],
 "metadata": {
  "kernelspec": {
   "display_name": "Python 3",
   "language": "python",
   "name": "python3"
  },
  "language_info": {
   "codemirror_mode": {
    "name": "ipython",
    "version": 3
   },
   "file_extension": ".py",
   "mimetype": "text/x-python",
   "name": "python",
   "nbconvert_exporter": "python",
   "pygments_lexer": "ipython3",
   "version": "3.9.2"
  }
 },
 "nbformat": 4,
 "nbformat_minor": 5
}
