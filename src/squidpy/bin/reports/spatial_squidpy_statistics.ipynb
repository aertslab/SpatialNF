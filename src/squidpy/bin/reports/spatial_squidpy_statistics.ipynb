{
 "cells": [
  {
   "cell_type": "markdown",
   "id": "adjusted-arthritis",
   "metadata": {},
   "source": [
    "# Spatial Statistics Report"
   ]
  },
  {
   "cell_type": "code",
   "execution_count": null,
   "id": "supreme-series",
   "metadata": {},
   "outputs": [],
   "source": [
    "# Import packages\n",
    "import scanpy as sc\n",
    "import squidpy as sq"
   ]
  },
  {
   "cell_type": "markdown",
   "id": "developed-whale",
   "metadata": {},
   "source": [
    "#### Plotting settings and functions"
   ]
  },
  {
   "cell_type": "code",
   "execution_count": null,
   "id": "phantom-consciousness",
   "metadata": {},
   "outputs": [],
   "source": [
    "# plot settings\n",
    "sc.set_figure_params(dpi=150, fontsize=10, dpi_save=600)"
   ]
  },
  {
   "cell_type": "markdown",
   "id": "desirable-agent",
   "metadata": {},
   "source": [
    "#### Read Data"
   ]
  },
  {
   "cell_type": "code",
   "execution_count": null,
   "id": "taken-smile",
   "metadata": {},
   "outputs": [],
   "source": [
    "adata = sc.read_h5ad(filename=FILE)\n",
    "KEY = annotations_to_plot[0]"
   ]
  },
  {
   "cell_type": "markdown",
   "id": "minimal-gothic",
   "metadata": {},
   "source": [
    "---\n",
    "## Neighborhood enrichment"
   ]
  },
  {
   "cell_type": "code",
   "execution_count": null,
   "id": "terminal-degree",
   "metadata": {},
   "outputs": [],
   "source": [
    "if KEY+'_nhood_enrichment' in adata.uns:\n",
    "    sq.pl.nhood_enrichment(adata, cluster_key=KEY, method='ward', mode='count')\n",
    "else:\n",
    "    print(f\"Neighborhood enrichment using {KEY} have not been computed\")"
   ]
  },
  {
   "cell_type": "markdown",
   "id": "addressed-senior",
   "metadata": {},
   "source": [
    "## Interaction matrix"
   ]
  },
  {
   "cell_type": "code",
   "execution_count": null,
   "id": "mounted-footage",
   "metadata": {},
   "outputs": [],
   "source": [
    "if KEY+'_interactions' in adata.uns:\n",
    "    sq.pl.interaction_matrix(adata, cluster_key=KEY, method='ward')\n",
    "else:\n",
    "    print(f\"Interaction matrix using {KEY} have not been computed\")"
   ]
  },
  {
   "cell_type": "markdown",
   "id": "entertaining-frontier",
   "metadata": {},
   "source": [
    "## Cluster co-occurence"
   ]
  },
  {
   "cell_type": "code",
   "execution_count": null,
   "id": "norwegian-hamilton",
   "metadata": {},
   "outputs": [],
   "source": [
    "if KEY+'_co_occurrence' in adata.uns:\n",
    "    for k in adata.obs.loc[:, KEY].unique():\n",
    "        sq.pl.co_occurrence(adata, KEY, clusters=[k])\n",
    "else:\n",
    "    print(f\"Cluster co-occurences using {KEY} have not been computed\")"
   ]
  },
  {
   "cell_type": "markdown",
   "id": "alternate-seven",
   "metadata": {},
   "source": [
    "## Centrality scores"
   ]
  },
  {
   "cell_type": "code",
   "execution_count": null,
   "id": "connected-width",
   "metadata": {},
   "outputs": [],
   "source": [
    "if KEY+'_centrality_scores' in adata.uns:\n",
    "    sq.pl.centrality_scores(adata, KEY, figsize=(15,5))\n",
    "else:\n",
    "    print(f\"Centrality scores using {KEY} have not been computed\")"
   ]
  },
  {
   "cell_type": "markdown",
   "id": "median-factor",
   "metadata": {},
   "source": [
    "## Ripley statistics"
   ]
  },
  {
   "cell_type": "code",
   "execution_count": null,
   "id": "breathing-brook",
   "metadata": {},
   "outputs": [],
   "source": [
    "if KEY + '_ripley_F' in adata.uns:\n",
    "    sq.pl.ripley(adata, cluster_key=KEY, mode='F')\n",
    "else:\n",
    "    print(f\"Ripley F statistic using {KEY} has not been computed\")    \n",
    "if KEY + '_ripley_G' in adata.uns:\n",
    "    sq.pl.ripley(adata, cluster_key=KEY, mode='G')\n",
    "else:\n",
    "    print(f\"Ripley G statistic using {KEY} has not been computed\")\n",
    "if KEY + '_ripley_L' in adata.uns:\n",
    "    sq.pl.ripley(adata, cluster_key=KEY, mode='L')\n",
    "else:\n",
    "    print(f\"Ripley L statistic using {KEY} has not been computed\")"
   ]
  }
 ],
 "metadata": {
  "kernelspec": {
   "display_name": "Python 3",
   "language": "python",
   "name": "python3"
  },
  "language_info": {
   "codemirror_mode": {
    "name": "ipython",
    "version": 3
   },
   "file_extension": ".py",
   "mimetype": "text/x-python",
   "name": "python",
   "nbconvert_exporter": "python",
   "pygments_lexer": "ipython3",
   "version": "3.9.2"
  }
 },
 "nbformat": 4,
 "nbformat_minor": 5
}
